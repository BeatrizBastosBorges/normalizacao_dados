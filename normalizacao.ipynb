{
 "cells": [
  {
   "cell_type": "code",
   "execution_count": 1,
   "id": "ddb34e07",
   "metadata": {
    "execution": {
     "iopub.execute_input": "2025-06-09T13:24:24.383542Z",
     "iopub.status.busy": "2025-06-09T13:24:24.383129Z",
     "iopub.status.idle": "2025-06-09T13:24:28.563760Z",
     "shell.execute_reply": "2025-06-09T13:24:28.562770Z"
    },
    "papermill": {
     "duration": 4.188922,
     "end_time": "2025-06-09T13:24:28.565781",
     "exception": false,
     "start_time": "2025-06-09T13:24:24.376859",
     "status": "completed"
    },
    "tags": []
   },
   "outputs": [],
   "source": [
    "import numpy as np\n",
    "import pandas as pd\n",
    "from sklearn import preprocessing\n",
    "from sklearn.model_selection import train_test_split\n",
    "from sklearn.preprocessing import MinMaxScaler\n",
    "from sklearn.metrics import accuracy_score, precision_score, recall_score, f1_score"
   ]
  },
  {
   "cell_type": "code",
   "execution_count": 2,
   "id": "80bef600",
   "metadata": {
    "execution": {
     "iopub.execute_input": "2025-06-09T13:24:28.575592Z",
     "iopub.status.busy": "2025-06-09T13:24:28.575111Z",
     "iopub.status.idle": "2025-06-09T13:24:28.769031Z",
     "shell.execute_reply": "2025-06-09T13:24:28.767901Z"
    },
    "papermill": {
     "duration": 0.200692,
     "end_time": "2025-06-09T13:24:28.770823",
     "exception": false,
     "start_time": "2025-06-09T13:24:28.570131",
     "status": "completed"
    },
    "tags": []
   },
   "outputs": [],
   "source": [
    "df = pd.read_csv(\"/kaggle/input/dupla2/dupla2.csv\", na_values = [' ?', '?', '? '])\n",
    "df_cleaned = df.dropna()"
   ]
  },
  {
   "cell_type": "code",
   "execution_count": 3,
   "id": "d9f86c36",
   "metadata": {
    "execution": {
     "iopub.execute_input": "2025-06-09T13:24:28.780297Z",
     "iopub.status.busy": "2025-06-09T13:24:28.779971Z",
     "iopub.status.idle": "2025-06-09T13:24:28.788880Z",
     "shell.execute_reply": "2025-06-09T13:24:28.787551Z"
    },
    "papermill": {
     "duration": 0.015499,
     "end_time": "2025-06-09T13:24:28.790577",
     "exception": false,
     "start_time": "2025-06-09T13:24:28.775078",
     "status": "completed"
    },
    "tags": []
   },
   "outputs": [
    {
     "name": "stdout",
     "output_type": "stream",
     "text": [
      "Colunas categóricas identificadas para one-hot encoding: ['workclass', 'education', 'marital-status', 'occupation', 'relationship', 'race', 'native-country']\n"
     ]
    }
   ],
   "source": [
    "# Identifica as colunas numéricas para normalização\n",
    "colunas_numericas = ['fnlwgt', 'capital-gain', 'capital-loss']\n",
    "\n",
    "# Identifica colunas categóricas para one-hot encoding (excluding 'earns')\n",
    "colunas_categoricas_original = df_cleaned.select_dtypes(include=['object']).columns.tolist()\n",
    "colunas_categoricas_original.remove('earns')\n",
    "colunas_categoricas_original.remove('sex')\n",
    "print(f\"Colunas categóricas identificadas para one-hot encoding: {colunas_categoricas_original}\")"
   ]
  },
  {
   "cell_type": "code",
   "execution_count": 4,
   "id": "4a3335ed",
   "metadata": {
    "execution": {
     "iopub.execute_input": "2025-06-09T13:24:28.801004Z",
     "iopub.status.busy": "2025-06-09T13:24:28.800624Z",
     "iopub.status.idle": "2025-06-09T13:24:28.870432Z",
     "shell.execute_reply": "2025-06-09T13:24:28.869272Z"
    },
    "papermill": {
     "duration": 0.077557,
     "end_time": "2025-06-09T13:24:28.872386",
     "exception": false,
     "start_time": "2025-06-09T13:24:28.794829",
     "status": "completed"
    },
    "tags": []
   },
   "outputs": [
    {
     "name": "stdout",
     "output_type": "stream",
     "text": [
      "Colunas categóricas transformadas usando one-hot encoding.\n",
      "Novas colunas após one-hot encoding (primeiras linhas):\n",
      "   age  fnlwgt  education-num      sex  capital-gain  capital-loss  \\\n",
      "0   39   77516             13     Male          2174             0   \n",
      "1   50   83311             13     Male             0             0   \n",
      "2   38  215646              9     Male             0             0   \n",
      "3   53  234721              7     Male             0             0   \n",
      "4   28  338409             13   Female             0             0   \n",
      "\n",
      "   hours-per-week   earns  workclass_ Local-gov  workclass_ Private  ...  \\\n",
      "0              40   <=50K                 False               False  ...   \n",
      "1              13   <=50K                 False               False  ...   \n",
      "2              40   <=50K                 False                True  ...   \n",
      "3              40   <=50K                 False                True  ...   \n",
      "4              40   <=50K                 False                True  ...   \n",
      "\n",
      "   native-country_ Portugal  native-country_ Puerto-Rico  \\\n",
      "0                     False                        False   \n",
      "1                     False                        False   \n",
      "2                     False                        False   \n",
      "3                     False                        False   \n",
      "4                     False                        False   \n",
      "\n",
      "   native-country_ Scotland  native-country_ South  native-country_ Taiwan  \\\n",
      "0                     False                  False                   False   \n",
      "1                     False                  False                   False   \n",
      "2                     False                  False                   False   \n",
      "3                     False                  False                   False   \n",
      "4                     False                  False                   False   \n",
      "\n",
      "   native-country_ Thailand  native-country_ Trinadad&Tobago  \\\n",
      "0                     False                            False   \n",
      "1                     False                            False   \n",
      "2                     False                            False   \n",
      "3                     False                            False   \n",
      "4                     False                            False   \n",
      "\n",
      "   native-country_ United-States  native-country_ Vietnam  \\\n",
      "0                           True                    False   \n",
      "1                           True                    False   \n",
      "2                           True                    False   \n",
      "3                           True                    False   \n",
      "4                          False                    False   \n",
      "\n",
      "   native-country_ Yugoslavia  \n",
      "0                       False  \n",
      "1                       False  \n",
      "2                       False  \n",
      "3                       False  \n",
      "4                       False  \n",
      "\n",
      "[5 rows x 97 columns]\n"
     ]
    }
   ],
   "source": [
    "# Aplica one-hot encoding nas colunas categóricas\n",
    "df_cleaned_encoded = pd.get_dummies(df_cleaned, columns=colunas_categoricas_original, drop_first=True)\n",
    "print(\"Colunas categóricas transformadas usando one-hot encoding.\")\n",
    "print(\"Novas colunas após one-hot encoding (primeiras linhas):\")\n",
    "print(df_cleaned_encoded.head())"
   ]
  },
  {
   "cell_type": "code",
   "execution_count": 5,
   "id": "7fc25175",
   "metadata": {
    "execution": {
     "iopub.execute_input": "2025-06-09T13:24:28.881948Z",
     "iopub.status.busy": "2025-06-09T13:24:28.881634Z",
     "iopub.status.idle": "2025-06-09T13:24:28.886900Z",
     "shell.execute_reply": "2025-06-09T13:24:28.885910Z"
    },
    "papermill": {
     "duration": 0.011784,
     "end_time": "2025-06-09T13:24:28.888426",
     "exception": false,
     "start_time": "2025-06-09T13:24:28.876642",
     "status": "completed"
    },
    "tags": []
   },
   "outputs": [
    {
     "name": "stdout",
     "output_type": "stream",
     "text": [
      "Normalizador MinMaxScaler inicializado.\n"
     ]
    }
   ],
   "source": [
    "# Inicializa o MinMaxScaler\n",
    "scaler = MinMaxScaler()\n",
    "print(\"Normalizador MinMaxScaler inicializado.\")"
   ]
  },
  {
   "cell_type": "code",
   "execution_count": 6,
   "id": "ca23df04",
   "metadata": {
    "execution": {
     "iopub.execute_input": "2025-06-09T13:24:28.898154Z",
     "iopub.status.busy": "2025-06-09T13:24:28.897876Z",
     "iopub.status.idle": "2025-06-09T13:24:28.910967Z",
     "shell.execute_reply": "2025-06-09T13:24:28.910072Z"
    },
    "papermill": {
     "duration": 0.019786,
     "end_time": "2025-06-09T13:24:28.912633",
     "exception": false,
     "start_time": "2025-06-09T13:24:28.892847",
     "status": "completed"
    },
    "tags": []
   },
   "outputs": [],
   "source": [
    "# Cria uma cópia para normalização\n",
    "df_normalizado = df_cleaned_encoded.copy()"
   ]
  },
  {
   "cell_type": "code",
   "execution_count": 7,
   "id": "1ced9974",
   "metadata": {
    "execution": {
     "iopub.execute_input": "2025-06-09T13:24:28.922321Z",
     "iopub.status.busy": "2025-06-09T13:24:28.921970Z",
     "iopub.status.idle": "2025-06-09T13:24:28.933054Z",
     "shell.execute_reply": "2025-06-09T13:24:28.931931Z"
    },
    "papermill": {
     "duration": 0.017645,
     "end_time": "2025-06-09T13:24:28.934535",
     "exception": false,
     "start_time": "2025-06-09T13:24:28.916890",
     "status": "completed"
    },
    "tags": []
   },
   "outputs": [
    {
     "name": "stdout",
     "output_type": "stream",
     "text": [
      "Colunas numéricas (fnlwgt, capital-gain, capital-loss) normalizadas usando MinMaxScaler.\n"
     ]
    }
   ],
   "source": [
    "# Normaliza as colunas numéricas\n",
    "df_normalizado[colunas_numericas] = scaler.fit_transform(df_cleaned[colunas_numericas])\n",
    "print(f\"Colunas numéricas ({', '.join(colunas_numericas)}) normalizadas usando MinMaxScaler.\")"
   ]
  },
  {
   "cell_type": "code",
   "execution_count": 8,
   "id": "31924891",
   "metadata": {
    "execution": {
     "iopub.execute_input": "2025-06-09T13:24:28.944780Z",
     "iopub.status.busy": "2025-06-09T13:24:28.944392Z",
     "iopub.status.idle": "2025-06-09T13:24:28.971451Z",
     "shell.execute_reply": "2025-06-09T13:24:28.970283Z"
    },
    "papermill": {
     "duration": 0.034239,
     "end_time": "2025-06-09T13:24:28.973136",
     "exception": false,
     "start_time": "2025-06-09T13:24:28.938897",
     "status": "completed"
    },
    "tags": []
   },
   "outputs": [
    {
     "name": "stdout",
     "output_type": "stream",
     "text": [
      "Coluna alvo 'earns' codificada para 'output' (0 para <=50K, 1 para >50K).\n"
     ]
    }
   ],
   "source": [
    "# Codifica a variável alvo 'earns'\n",
    "# Mapeia '<=50K' para 0 e '>50K' para 1\n",
    "df_normalizado['output'] = df_cleaned['earns'].apply(lambda val: 1 if val.strip() == '>50K' else 0)\n",
    "print(\"Coluna alvo 'earns' codificada para 'output' (0 para <=50K, 1 para >50K).\")\n",
    "\n",
    "label_encoder = preprocessing.LabelEncoder()\n",
    "df_normalizado['sex'] = label_encoder.fit_transform(df_cleaned['sex'])"
   ]
  },
  {
   "cell_type": "code",
   "execution_count": 9,
   "id": "c4389683",
   "metadata": {
    "execution": {
     "iopub.execute_input": "2025-06-09T13:24:28.983179Z",
     "iopub.status.busy": "2025-06-09T13:24:28.982868Z",
     "iopub.status.idle": "2025-06-09T13:24:28.989829Z",
     "shell.execute_reply": "2025-06-09T13:24:28.988436Z"
    },
    "papermill": {
     "duration": 0.014261,
     "end_time": "2025-06-09T13:24:28.991894",
     "exception": false,
     "start_time": "2025-06-09T13:24:28.977633",
     "status": "completed"
    },
    "tags": []
   },
   "outputs": [],
   "source": [
    "# Seleciona as colunas de features e a coluna alvo\n",
    "colunas_features = colunas_numericas\n",
    "df_entrada_perceptron = df_normalizado[colunas_features + ['output'] + ['sex']]"
   ]
  },
  {
   "cell_type": "code",
   "execution_count": 10,
   "id": "68d4b25f",
   "metadata": {
    "execution": {
     "iopub.execute_input": "2025-06-09T13:24:29.002307Z",
     "iopub.status.busy": "2025-06-09T13:24:29.002032Z",
     "iopub.status.idle": "2025-06-09T13:24:29.011124Z",
     "shell.execute_reply": "2025-06-09T13:24:29.009894Z"
    },
    "papermill": {
     "duration": 0.0162,
     "end_time": "2025-06-09T13:24:29.012898",
     "exception": false,
     "start_time": "2025-06-09T13:24:28.996698",
     "status": "completed"
    },
    "tags": []
   },
   "outputs": [],
   "source": [
    "# --- Modelo Perceptron (conforme fornecido pelo usuário) ---\n",
    "class Perceptron:\n",
    "    def __init__(self, learning_rate=0.1, n_iter=100):\n",
    "        self.learning_rate = learning_rate  # Taxa de aprendizado\n",
    "        self.n_iter = n_iter                # Número de iterações (épocas)\n",
    "        self.weights = None                 # Pesos\n",
    "        self.bias = None                    # Viés (bias)\n",
    "\n",
    "    def fit(self, X, y):\n",
    "        n_samples, n_features = X.shape\n",
    "        self.weights = np.zeros(n_features)\n",
    "        self.bias = 0\n",
    "        \n",
    "        y_array = y.values if isinstance(y, pd.Series) else y\n",
    "\n",
    "        for _ in range(self.n_iter):\n",
    "            for idx, x_i in enumerate(X.values if isinstance(X, pd.DataFrame) else X):\n",
    "                linear_output = np.dot(x_i, self.weights) + self.bias\n",
    "                y_predicted = self.activation_function(linear_output)\n",
    "                \n",
    "                update = self.learning_rate * (y_array[idx] - y_predicted)\n",
    "                self.weights += update * x_i\n",
    "                self.bias += update\n",
    "\n",
    "    def activation_function(self, x):\n",
    "        return np.where(x >= 0, 1, 0)\n",
    "\n",
    "    def predict(self, X):\n",
    "        X_values = X.values if isinstance(X, pd.DataFrame) else X\n",
    "        linear_output = np.dot(X_values, self.weights) + self.bias\n",
    "        return self.activation_function(linear_output)"
   ]
  },
  {
   "cell_type": "code",
   "execution_count": 11,
   "id": "bb2390a0",
   "metadata": {
    "execution": {
     "iopub.execute_input": "2025-06-09T13:24:29.024080Z",
     "iopub.status.busy": "2025-06-09T13:24:29.023739Z",
     "iopub.status.idle": "2025-06-09T13:24:29.031126Z",
     "shell.execute_reply": "2025-06-09T13:24:29.030013Z"
    },
    "papermill": {
     "duration": 0.015099,
     "end_time": "2025-06-09T13:24:29.033020",
     "exception": false,
     "start_time": "2025-06-09T13:24:29.017921",
     "status": "completed"
    },
    "tags": []
   },
   "outputs": [],
   "source": [
    "# --- Divisão, Treinamento e Teste ---\n",
    "X = df_entrada_perceptron[colunas_features]\n",
    "y = df_entrada_perceptron['output']"
   ]
  },
  {
   "cell_type": "code",
   "execution_count": 12,
   "id": "1cf5241a",
   "metadata": {
    "execution": {
     "iopub.execute_input": "2025-06-09T13:24:29.043210Z",
     "iopub.status.busy": "2025-06-09T13:24:29.042870Z",
     "iopub.status.idle": "2025-06-09T13:24:29.055819Z",
     "shell.execute_reply": "2025-06-09T13:24:29.054515Z"
    },
    "papermill": {
     "duration": 0.02029,
     "end_time": "2025-06-09T13:24:29.057653",
     "exception": false,
     "start_time": "2025-06-09T13:24:29.037363",
     "status": "completed"
    },
    "tags": []
   },
   "outputs": [
    {
     "name": "stdout",
     "output_type": "stream",
     "text": [
      "\n",
      "Dividindo os dados: test_size=0.2, random_state=42.\n"
     ]
    }
   ],
   "source": [
    "# Parâmetros para train_test_split\n",
    "test_size_param = 0.2\n",
    "random_state_param = 42\n",
    "print(f\"\\nDividindo os dados: test_size={test_size_param}, random_state={random_state_param}.\")\n",
    "X_train, X_test, y_train, y_test = train_test_split(X, y, test_size=test_size_param, random_state=random_state_param)"
   ]
  },
  {
   "cell_type": "code",
   "execution_count": 13,
   "id": "1fbd851f",
   "metadata": {
    "execution": {
     "iopub.execute_input": "2025-06-09T13:24:29.068793Z",
     "iopub.status.busy": "2025-06-09T13:24:29.067329Z",
     "iopub.status.idle": "2025-06-09T13:24:29.073869Z",
     "shell.execute_reply": "2025-06-09T13:24:29.072885Z"
    },
    "papermill": {
     "duration": 0.013981,
     "end_time": "2025-06-09T13:24:29.076066",
     "exception": false,
     "start_time": "2025-06-09T13:24:29.062085",
     "status": "completed"
    },
    "tags": []
   },
   "outputs": [
    {
     "name": "stdout",
     "output_type": "stream",
     "text": [
      "Inicializando Perceptron: learning_rate (eta0)=0.01, n_iter (max_iter)=100.\n"
     ]
    }
   ],
   "source": [
    "# Parâmetros do Perceptron\n",
    "learning_rate_param = 0.01\n",
    "n_iter_param = 100\n",
    "print(f\"Inicializando Perceptron: learning_rate (eta0)={learning_rate_param}, n_iter (max_iter)={n_iter_param}.\")\n",
    "perceptron = Perceptron(learning_rate=learning_rate_param, n_iter=n_iter_param)"
   ]
  },
  {
   "cell_type": "code",
   "execution_count": 14,
   "id": "1c9391cd",
   "metadata": {
    "execution": {
     "iopub.execute_input": "2025-06-09T13:24:29.086296Z",
     "iopub.status.busy": "2025-06-09T13:24:29.085972Z",
     "iopub.status.idle": "2025-06-09T13:24:55.451998Z",
     "shell.execute_reply": "2025-06-09T13:24:55.451037Z"
    },
    "papermill": {
     "duration": 26.372968,
     "end_time": "2025-06-09T13:24:55.453597",
     "exception": false,
     "start_time": "2025-06-09T13:24:29.080629",
     "status": "completed"
    },
    "tags": []
   },
   "outputs": [
    {
     "name": "stdout",
     "output_type": "stream",
     "text": [
      "Treinando o modelo Perceptron...\n",
      "Treinamento concluído.\n"
     ]
    }
   ],
   "source": [
    "print(\"Treinando o modelo Perceptron...\")\n",
    "perceptron.fit(X_train, y_train)\n",
    "print(\"Treinamento concluído.\")"
   ]
  },
  {
   "cell_type": "code",
   "execution_count": 15,
   "id": "73e9e702",
   "metadata": {
    "execution": {
     "iopub.execute_input": "2025-06-09T13:24:55.465368Z",
     "iopub.status.busy": "2025-06-09T13:24:55.465045Z",
     "iopub.status.idle": "2025-06-09T13:24:55.474652Z",
     "shell.execute_reply": "2025-06-09T13:24:55.473582Z"
    },
    "papermill": {
     "duration": 0.016702,
     "end_time": "2025-06-09T13:24:55.476216",
     "exception": false,
     "start_time": "2025-06-09T13:24:55.459514",
     "status": "completed"
    },
    "tags": []
   },
   "outputs": [
    {
     "name": "stdout",
     "output_type": "stream",
     "text": [
      "\n",
      "Fazendo predições no conjunto de teste...\n"
     ]
    }
   ],
   "source": [
    "print(\"\\nFazendo predições no conjunto de teste...\")\n",
    "predicoes = perceptron.predict(X_test)"
   ]
  },
  {
   "cell_type": "code",
   "execution_count": 16,
   "id": "14f7a1df",
   "metadata": {
    "execution": {
     "iopub.execute_input": "2025-06-09T13:24:55.487588Z",
     "iopub.status.busy": "2025-06-09T13:24:55.487232Z",
     "iopub.status.idle": "2025-06-09T13:24:55.494888Z",
     "shell.execute_reply": "2025-06-09T13:24:55.493737Z"
    },
    "papermill": {
     "duration": 0.015945,
     "end_time": "2025-06-09T13:24:55.496877",
     "exception": false,
     "start_time": "2025-06-09T13:24:55.480932",
     "status": "completed"
    },
    "tags": []
   },
   "outputs": [
    {
     "name": "stdout",
     "output_type": "stream",
     "text": [
      "\n",
      "--- Resultados do Modelo Perceptron ---\n",
      "\n",
      "Pesos Aprendidos:\n",
      "[7.98539161e-05 1.10647706e-01 1.08585859e-03]\n",
      "\n",
      "Viés (Bias) Aprendido:\n",
      "-0.01\n"
     ]
    }
   ],
   "source": [
    "# --- Exibe os Resultados e Métricas ---\n",
    "print(\"\\n--- Resultados do Modelo Perceptron ---\")\n",
    "\n",
    "print(\"\\nPesos Aprendidos:\")\n",
    "print(perceptron.weights)\n",
    "print(\"\\nViés (Bias) Aprendido:\")\n",
    "print(perceptron.bias)"
   ]
  },
  {
   "cell_type": "code",
   "execution_count": 17,
   "id": "a24aaccb",
   "metadata": {
    "execution": {
     "iopub.execute_input": "2025-06-09T13:24:55.509209Z",
     "iopub.status.busy": "2025-06-09T13:24:55.508873Z",
     "iopub.status.idle": "2025-06-09T13:24:55.525199Z",
     "shell.execute_reply": "2025-06-09T13:24:55.524232Z"
    },
    "papermill": {
     "duration": 0.023971,
     "end_time": "2025-06-09T13:24:55.526809",
     "exception": false,
     "start_time": "2025-06-09T13:24:55.502838",
     "status": "completed"
    },
    "tags": []
   },
   "outputs": [],
   "source": [
    "# Cálculo das métricas de desempenho\n",
    "acc = accuracy_score(y_test.values, predicoes)\n",
    "prec = precision_score(y_test.values, predicoes, zero_division=0)\n",
    "rec = recall_score(y_test.values, predicoes, zero_division=0)\n",
    "f1 = f1_score(y_test.values, predicoes, zero_division=0)"
   ]
  },
  {
   "cell_type": "code",
   "execution_count": 18,
   "id": "184e6a34",
   "metadata": {
    "execution": {
     "iopub.execute_input": "2025-06-09T13:24:55.537128Z",
     "iopub.status.busy": "2025-06-09T13:24:55.536816Z",
     "iopub.status.idle": "2025-06-09T13:24:55.542532Z",
     "shell.execute_reply": "2025-06-09T13:24:55.541379Z"
    },
    "papermill": {
     "duration": 0.012694,
     "end_time": "2025-06-09T13:24:55.544055",
     "exception": false,
     "start_time": "2025-06-09T13:24:55.531361",
     "status": "completed"
    },
    "tags": []
   },
   "outputs": [
    {
     "name": "stdout",
     "output_type": "stream",
     "text": [
      "\n",
      "--- Métricas de Desempenho no Conjunto de Teste ---\n",
      "Acurácia: 0.7688\n",
      "Precisão: 0.9787\n",
      "Recall (Sensibilidade): 0.0902\n",
      "Pontuação F1: 0.1652\n"
     ]
    }
   ],
   "source": [
    "print(\"\\n--- Métricas de Desempenho no Conjunto de Teste ---\")\n",
    "print(f\"Acurácia: {acc:.4f}\")\n",
    "print(f\"Precisão: {prec:.4f}\")\n",
    "print(f\"Recall (Sensibilidade): {rec:.4f}\")\n",
    "print(f\"Pontuação F1: {f1:.4f}\")"
   ]
  },
  {
   "cell_type": "code",
   "execution_count": 19,
   "id": "711d0169",
   "metadata": {
    "execution": {
     "iopub.execute_input": "2025-06-09T13:24:55.554230Z",
     "iopub.status.busy": "2025-06-09T13:24:55.553954Z",
     "iopub.status.idle": "2025-06-09T13:24:55.559558Z",
     "shell.execute_reply": "2025-06-09T13:24:55.558182Z"
    },
    "papermill": {
     "duration": 0.012628,
     "end_time": "2025-06-09T13:24:55.561261",
     "exception": false,
     "start_time": "2025-06-09T13:24:55.548633",
     "status": "completed"
    },
    "tags": []
   },
   "outputs": [
    {
     "name": "stdout",
     "output_type": "stream",
     "text": [
      "\n",
      "--- Confirmação dos Parâmetros Utilizados ---\n",
      "Normalização: MinMaxScaler\n",
      "Parâmetros do train_test_split: test_size=0.2, random_state=42\n",
      "Parâmetros do Perceptron: n_iter (max_iter)=100, learning_rate (eta0)=0.01, random_state=Não utilizado na classe Perceptron fornecida\n"
     ]
    }
   ],
   "source": [
    "# Informações sobre os parâmetros utilizados, para confirmar as respostas anteriores\n",
    "print(\"\\n--- Confirmação dos Parâmetros Utilizados ---\")\n",
    "print(f\"Normalização: MinMaxScaler\")\n",
    "print(f\"Parâmetros do train_test_split: test_size={test_size_param}, random_state={random_state_param}\")\n",
    "print(f\"Parâmetros do Perceptron: n_iter (max_iter)={n_iter_param}, learning_rate (eta0)={learning_rate_param}, random_state=Não utilizado na classe Perceptron fornecida\")"
   ]
  },
  {
   "cell_type": "code",
   "execution_count": 20,
   "id": "4f5a5253",
   "metadata": {
    "execution": {
     "iopub.execute_input": "2025-06-09T13:24:55.571715Z",
     "iopub.status.busy": "2025-06-09T13:24:55.571380Z",
     "iopub.status.idle": "2025-06-09T13:24:56.551076Z",
     "shell.execute_reply": "2025-06-09T13:24:56.550267Z"
    },
    "papermill": {
     "duration": 0.986707,
     "end_time": "2025-06-09T13:24:56.552753",
     "exception": false,
     "start_time": "2025-06-09T13:24:55.566046",
     "status": "completed"
    },
    "tags": []
   },
   "outputs": [],
   "source": [
    "df_normalizado.to_csv('df_normalizado.csv', index=False)"
   ]
  }
 ],
 "metadata": {
  "kaggle": {
   "accelerator": "none",
   "dataSources": [
    {
     "datasetId": 7589975,
     "sourceId": 12059058,
     "sourceType": "datasetVersion"
    }
   ],
   "dockerImageVersionId": 31040,
   "isGpuEnabled": false,
   "isInternetEnabled": true,
   "language": "python",
   "sourceType": "notebook"
  },
  "kernelspec": {
   "display_name": "Python 3",
   "language": "python",
   "name": "python3"
  },
  "language_info": {
   "codemirror_mode": {
    "name": "ipython",
    "version": 3
   },
   "file_extension": ".py",
   "mimetype": "text/x-python",
   "name": "python",
   "nbconvert_exporter": "python",
   "pygments_lexer": "ipython3",
   "version": "3.11.11"
  },
  "papermill": {
   "default_parameters": {},
   "duration": 38.342854,
   "end_time": "2025-06-09T13:24:57.279613",
   "environment_variables": {},
   "exception": null,
   "input_path": "__notebook__.ipynb",
   "output_path": "__notebook__.ipynb",
   "parameters": {},
   "start_time": "2025-06-09T13:24:18.936759",
   "version": "2.6.0"
  }
 },
 "nbformat": 4,
 "nbformat_minor": 5
}
